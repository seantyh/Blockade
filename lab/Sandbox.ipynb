{
 "cells": [
  {
   "cell_type": "markdown",
   "metadata": {},
   "source": [
    "# Sandbox"
   ]
  },
  {
   "cell_type": "code",
   "execution_count": 1,
   "metadata": {},
   "outputs": [],
   "source": [
    "%load_ext autoreload\n",
    "%autoreload 2\n",
    "%matplotlib inline\n",
    "import sys\n",
    "sys.path.append(\"../\")"
   ]
  },
  {
   "cell_type": "code",
   "execution_count": 2,
   "metadata": {},
   "outputs": [],
   "source": [
    "import Blockade"
   ]
  },
  {
   "cell_type": "code",
   "execution_count": 3,
   "metadata": {},
   "outputs": [],
   "source": [
    "from itertools import islice"
   ]
  },
  {
   "cell_type": "markdown",
   "metadata": {},
   "source": [
    "# Build CharacterVectors"
   ]
  },
  {
   "cell_type": "code",
   "execution_count": 102,
   "metadata": {},
   "outputs": [],
   "source": [
    "from Blockade.vectors import CwnNodeVec\n",
    "from Blockade.vectors import CharacterVectors"
   ]
  },
  {
   "cell_type": "code",
   "execution_count": 79,
   "metadata": {},
   "outputs": [
    {
     "name": "stdout",
     "output_type": "stream",
     "text": [
      "load CwnNodeVec from cache:  ..\\Blockade\\vectors\\..\\..\\resources\\cwn_node_vec_homophily.pkl\n"
     ]
    }
   ],
   "source": [
    "node_vec = CwnNodeVec('homophily')"
   ]
  },
  {
   "cell_type": "code",
   "execution_count": 131,
   "metadata": {},
   "outputs": [
    {
     "name": "stdout",
     "output_type": "stream",
     "text": [
      "write CharacterVectors to cache:  E:\\LangOn\\Blockade\\data\\cache_charac_vec\\charac_vec_nodevec.pkl\n"
     ]
    }
   ],
   "source": [
    "cv = CharacterVectors.from_CwnNodeVec(node_vec)"
   ]
  },
  {
   "cell_type": "code",
   "execution_count": 132,
   "metadata": {},
   "outputs": [
    {
     "data": {
      "text/plain": [
       "(3834, 100)"
      ]
     },
     "execution_count": 132,
     "metadata": {},
     "output_type": "execute_result"
    }
   ],
   "source": [
    "cv.vectors.shape"
   ]
  },
  {
   "cell_type": "markdown",
   "metadata": {},
   "source": [
    "# Ptt Corpus"
   ]
  },
  {
   "cell_type": "code",
   "execution_count": 4,
   "metadata": {},
   "outputs": [],
   "source": [
    "ptt_path = Blockade.get_resource_path('corpus', 'ptt.mongo.20190514.dump.gz')"
   ]
  },
  {
   "cell_type": "code",
   "execution_count": 5,
   "metadata": {},
   "outputs": [],
   "source": [
    "ptt = Blockade.PttCorpus(ptt_path)"
   ]
  },
  {
   "cell_type": "code",
   "execution_count": 52,
   "metadata": {},
   "outputs": [
    {
     "name": "stderr",
     "output_type": "stream",
     "text": [
      "100%|█████████████████████████████████████████████████████████████████████████████████████▋| 81480/81728 [00:32<00:00, 2415.36it/s]"
     ]
    },
    {
     "name": "stdout",
     "output_type": "stream",
     "text": [
      "Parse failed: 61\n"
     ]
    },
    {
     "name": "stderr",
     "output_type": "stream",
     "text": [
      "100%|██████████████████████████████████████████████████████████████████████████████████████| 81728/81728 [00:32<00:00, 2527.74it/s]\n"
     ]
    },
    {
     "data": {
      "text/html": [
       "<div>\n",
       "<style scoped>\n",
       "    .dataframe tbody tr th:only-of-type {\n",
       "        vertical-align: middle;\n",
       "    }\n",
       "\n",
       "    .dataframe tbody tr th {\n",
       "        vertical-align: top;\n",
       "    }\n",
       "\n",
       "    .dataframe thead th {\n",
       "        text-align: right;\n",
       "    }\n",
       "</style>\n",
       "<table border=\"1\" class=\"dataframe\">\n",
       "  <thead>\n",
       "    <tr style=\"text-align: right;\">\n",
       "      <th></th>\n",
       "      <th>n_article</th>\n",
       "      <th>n_comments</th>\n",
       "      <th>nchar_post</th>\n",
       "      <th>nchar_comments</th>\n",
       "      <th>t0</th>\n",
       "      <th>t1</th>\n",
       "    </tr>\n",
       "  </thead>\n",
       "  <tbody>\n",
       "    <tr>\n",
       "      <th>Gossiping</th>\n",
       "      <td>16820</td>\n",
       "      <td>232525</td>\n",
       "      <td>4410932</td>\n",
       "      <td>2440495</td>\n",
       "      <td>2019-04-27 20:43:15</td>\n",
       "      <td>2019-05-06 00:33:12</td>\n",
       "    </tr>\n",
       "    <tr>\n",
       "      <th>NTU</th>\n",
       "      <td>21292</td>\n",
       "      <td>211866</td>\n",
       "      <td>6504153</td>\n",
       "      <td>2167031</td>\n",
       "      <td>2014-12-30 02:59:52</td>\n",
       "      <td>2019-11-23 14:14:33</td>\n",
       "    </tr>\n",
       "    <tr>\n",
       "      <th>sex</th>\n",
       "      <td>9019</td>\n",
       "      <td>128871</td>\n",
       "      <td>5751423</td>\n",
       "      <td>1107208</td>\n",
       "      <td>1997-09-14 00:34:19</td>\n",
       "      <td>2019-11-23 18:44:32</td>\n",
       "    </tr>\n",
       "    <tr>\n",
       "      <th>movie</th>\n",
       "      <td>888</td>\n",
       "      <td>17382</td>\n",
       "      <td>344722</td>\n",
       "      <td>216679</td>\n",
       "      <td>2019-04-29 18:43:47</td>\n",
       "      <td>2019-05-06 00:32:32</td>\n",
       "    </tr>\n",
       "    <tr>\n",
       "      <th>WomenTalk</th>\n",
       "      <td>3966</td>\n",
       "      <td>58665</td>\n",
       "      <td>923012</td>\n",
       "      <td>649923</td>\n",
       "      <td>2019-04-06 14:46:32</td>\n",
       "      <td>2019-05-06 00:11:31</td>\n",
       "    </tr>\n",
       "    <tr>\n",
       "      <th>Boy-Girl</th>\n",
       "      <td>1583</td>\n",
       "      <td>29767</td>\n",
       "      <td>801447</td>\n",
       "      <td>376427</td>\n",
       "      <td>2019-03-14 10:49:25</td>\n",
       "      <td>2019-05-06 00:28:33</td>\n",
       "    </tr>\n",
       "    <tr>\n",
       "      <th>HatePolitics</th>\n",
       "      <td>28160</td>\n",
       "      <td>623420</td>\n",
       "      <td>8509977</td>\n",
       "      <td>8332837</td>\n",
       "      <td>2019-03-09 09:03:48</td>\n",
       "      <td>2020-05-03 08:16:22</td>\n",
       "    </tr>\n",
       "  </tbody>\n",
       "</table>\n",
       "</div>"
      ],
      "text/plain": [
       "              n_article  n_comments  nchar_post  nchar_comments                  t0                  t1\n",
       "Gossiping         16820      232525     4410932         2440495 2019-04-27 20:43:15 2019-05-06 00:33:12\n",
       "NTU               21292      211866     6504153         2167031 2014-12-30 02:59:52 2019-11-23 14:14:33\n",
       "sex                9019      128871     5751423         1107208 1997-09-14 00:34:19 2019-11-23 18:44:32\n",
       "movie               888       17382      344722          216679 2019-04-29 18:43:47 2019-05-06 00:32:32\n",
       "WomenTalk          3966       58665      923012          649923 2019-04-06 14:46:32 2019-05-06 00:11:31\n",
       "Boy-Girl           1583       29767      801447          376427 2019-03-14 10:49:25 2019-05-06 00:28:33\n",
       "HatePolitics      28160      623420     8509977         8332837 2019-03-09 09:03:48 2020-05-03 08:16:22"
      ]
     },
     "execution_count": 52,
     "metadata": {},
     "output_type": "execute_result"
    }
   ],
   "source": [
    "stat = ptt.getStatistics()\n",
    "stat.to_csv(str(ptt_path).replace('.gz', '.csv'))\n",
    "stat"
   ]
  },
  {
   "cell_type": "code",
   "execution_count": 10,
   "metadata": {},
   "outputs": [
    {
     "name": "stdout",
     "output_type": "stream",
     "text": [
      "Parse failed: 61\n"
     ]
    }
   ],
   "source": [
    "mart = list(ptt.getArticles(\"movie\"))"
   ]
  },
  {
   "cell_type": "code",
   "execution_count": 12,
   "metadata": {},
   "outputs": [
    {
     "data": {
      "text/plain": [
       "888"
      ]
     },
     "execution_count": 12,
     "metadata": {},
     "output_type": "execute_result"
    }
   ],
   "source": [
    "len(mart)"
   ]
  },
  {
   "cell_type": "code",
   "execution_count": 13,
   "metadata": {},
   "outputs": [],
   "source": [
    "import pickle\n",
    "mart_path = Blockade.get_data_path('corpus', 'ptt.movie.888.pkl')\n",
    "with open(mart_path, \"wb\") as fout:\n",
    "    pickle.dump(mart, fout)"
   ]
  },
  {
   "cell_type": "code",
   "execution_count": 15,
   "metadata": {},
   "outputs": [
    {
     "data": {
      "text/plain": [
       "'底下有雷取名為《（幸福的拉札洛）》或許是種反諷，映照出人性醜陋的照妖鏡，因為越深入故事，觀者將會發現是不停地被利用，被剝削的對象，但卻無怨無悔，不露出一絲不耐煩地奉獻自己，就好像天使降臨人間一般。這樣的純潔無知反倒，一如他身上始終穿著的白上衣慢慢被玷染、泛黃，放大了行使在他身上的陰暗行為，縱然部分只是惡作劇，甚至有些是潛意識的作為，卻更凸顯人類社會的生態，彷彿弱肉強食的動物世界。導演是慢慢將故事說大的，所謂的惡也漸漸轉為無形。故事以微型的農村農忙生活起手，當觀者不以為意地（或說稀鬆平常地）看待大宅院的權力關係時，竟有更大的一隻手伸進來攪和、干預這裡的自足，又在後來，更有權勢的侯爵夫人發表著食物鏈的宣言，清楚澄澈地描繪出佃農與雇主關係的風景，而善良的拉札洛被持續壓榨，顯然是食物鏈最底層。當揭開前述事實時，一方面難以想像都甚麼時代了，還停留在過去的舊思維中，一方面以為故事的時空背景在更久遠之前，縱使後來的劇情推翻了這樣的想法，但此設定倒也讓解放佃農後的劇情開展沒有一點違和。可說是巧妙地將時空維度梳理至幾近無形，魔幻與寫實兼容並蓄，讓數千年來所發生的種種於近世並存，使觀者得以驚呼社會再怎麼變動，進步，歷史本質裡的惡仍殊途同歸。先不論較接近現代的後半段，光是雇主兒子伸張的自由，中二的任性而策動的假綁架案，其實也不過是建構在剝削的本質之上，更遑論後來，農村村民真的獲得自由後的生活，回過頭來與過去比較，平心看待，有比較改善嗎？顯然人性始終如一，我們追求自由，平等的同時，或許也可能正執行著往下的霸凌。小奸小惡尚屬輕微，更可怕的是有時候我們在不自覺中處於打著大旗幟號召的共犯結構裡。我頗欣賞導演在故事的大方向中鑲嵌些許意欲關懷的議題，而仍契合敘事不走偏，如宗教議題（神父與教堂的出現），如資本主義下的貧富（佃農自由的生活和銀行討錢的場景），讓主旨醞釀發酵，甚至就連告知周圍植物皆可食，聽者欣喜得讓觀者我發噱的場景，不也暗渡陳倉人類破壞大自然的後果。於是為了自身利益、方便而利用無知與破壞手無縛雞之力或許也是真實存在的無形之惡。這個故事除了抨擊社會狀況之外，或許也是給正在被利用而不自知的觀者寓言，正像那群佃農即便脫離了掌控，但仍會為奉獻而精心準備的心態雷同。歡迎光臨'"
      ]
     },
     "execution_count": 15,
     "metadata": {},
     "output_type": "execute_result"
    }
   ],
   "source": [
    "Blockade.utils.keep_cjk(mart[0][\"content\"])"
   ]
  },
  {
   "cell_type": "code",
   "execution_count": null,
   "metadata": {},
   "outputs": [],
   "source": []
  },
  {
   "cell_type": "code",
   "execution_count": 135,
   "metadata": {},
   "outputs": [],
   "source": [
    "import torch\n",
    "import torch.nn as nn"
   ]
  },
  {
   "cell_type": "code",
   "execution_count": 133,
   "metadata": {},
   "outputs": [],
   "source": [
    "embed = nn.Embedding(cv.shape[0], cv.shape[1], padding_idx=cv.vectors.shape[0]-1)"
   ]
  },
  {
   "cell_type": "code",
   "execution_count": 144,
   "metadata": {},
   "outputs": [],
   "source": [
    "embed.weight = nn.Parameter(torch.from_numpy(cv.vectors))\n",
    "embed.weight.requires_grad = False"
   ]
  },
  {
   "cell_type": "code",
   "execution_count": 148,
   "metadata": {},
   "outputs": [
    {
     "data": {
      "text/plain": [
       "torch.Size([3, 100])"
      ]
     },
     "execution_count": 148,
     "metadata": {},
     "output_type": "execute_result"
    }
   ],
   "source": [
    "embed(torch.LongTensor(cv.encode(\"你好嗎\"))).shape"
   ]
  },
  {
   "cell_type": "code",
   "execution_count": null,
   "metadata": {},
   "outputs": [],
   "source": []
  }
 ],
 "metadata": {
  "kernelspec": {
   "display_name": "Python 3",
   "language": "python",
   "name": "python3"
  },
  "language_info": {
   "codemirror_mode": {
    "name": "ipython",
    "version": 3
   },
   "file_extension": ".py",
   "mimetype": "text/x-python",
   "name": "python",
   "nbconvert_exporter": "python",
   "pygments_lexer": "ipython3",
   "version": "3.7.2"
  }
 },
 "nbformat": 4,
 "nbformat_minor": 2
}
