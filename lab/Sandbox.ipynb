{
 "cells": [
  {
   "cell_type": "markdown",
   "metadata": {},
   "source": [
    "# Sandbox"
   ]
  },
  {
   "cell_type": "code",
   "execution_count": 2,
   "metadata": {},
   "outputs": [],
   "source": [
    "%load_ext autoreload\n",
    "%autoreload 2\n",
    "%matplotlib inline\n",
    "import sys\n",
    "sys.path.append(\"../\")"
   ]
  },
  {
   "cell_type": "code",
   "execution_count": 13,
   "metadata": {},
   "outputs": [],
   "source": [
    "import Blockade"
   ]
  },
  {
   "cell_type": "code",
   "execution_count": 23,
   "metadata": {},
   "outputs": [],
   "source": [
    "from itertools import islice"
   ]
  },
  {
   "cell_type": "code",
   "execution_count": 38,
   "metadata": {},
   "outputs": [],
   "source": [
    "ptt_path = Blockade.get_resource_path('corpus', 'ptt.mongo.20190514.dump.gz')"
   ]
  },
  {
   "cell_type": "code",
   "execution_count": 39,
   "metadata": {},
   "outputs": [],
   "source": [
    "ptt = Blockade.PttCorpus(ptt_path)"
   ]
  },
  {
   "cell_type": "code",
   "execution_count": 25,
   "metadata": {},
   "outputs": [],
   "source": [
    "from datetime import datetime"
   ]
  },
  {
   "cell_type": "code",
   "execution_count": 26,
   "metadata": {},
   "outputs": [
    {
     "data": {
      "text/plain": [
       "datetime.datetime(1970, 1, 1, 8, 0)"
      ]
     },
     "execution_count": 26,
     "metadata": {},
     "output_type": "execute_result"
    }
   ],
   "source": [
    "datetime.fromtimestamp(0)"
   ]
  },
  {
   "cell_type": "code",
   "execution_count": 52,
   "metadata": {},
   "outputs": [
    {
     "name": "stderr",
     "output_type": "stream",
     "text": [
      "100%|█████████████████████████████████████████████████████████████████████████████████████▋| 81480/81728 [00:32<00:00, 2415.36it/s]"
     ]
    },
    {
     "name": "stdout",
     "output_type": "stream",
     "text": [
      "Parse failed: 61\n"
     ]
    },
    {
     "name": "stderr",
     "output_type": "stream",
     "text": [
      "100%|██████████████████████████████████████████████████████████████████████████████████████| 81728/81728 [00:32<00:00, 2527.74it/s]\n"
     ]
    },
    {
     "data": {
      "text/html": [
       "<div>\n",
       "<style scoped>\n",
       "    .dataframe tbody tr th:only-of-type {\n",
       "        vertical-align: middle;\n",
       "    }\n",
       "\n",
       "    .dataframe tbody tr th {\n",
       "        vertical-align: top;\n",
       "    }\n",
       "\n",
       "    .dataframe thead th {\n",
       "        text-align: right;\n",
       "    }\n",
       "</style>\n",
       "<table border=\"1\" class=\"dataframe\">\n",
       "  <thead>\n",
       "    <tr style=\"text-align: right;\">\n",
       "      <th></th>\n",
       "      <th>n_article</th>\n",
       "      <th>n_comments</th>\n",
       "      <th>nchar_post</th>\n",
       "      <th>nchar_comments</th>\n",
       "      <th>t0</th>\n",
       "      <th>t1</th>\n",
       "    </tr>\n",
       "  </thead>\n",
       "  <tbody>\n",
       "    <tr>\n",
       "      <th>Gossiping</th>\n",
       "      <td>16820</td>\n",
       "      <td>232525</td>\n",
       "      <td>4410932</td>\n",
       "      <td>2440495</td>\n",
       "      <td>2019-04-27 20:43:15</td>\n",
       "      <td>2019-05-06 00:33:12</td>\n",
       "    </tr>\n",
       "    <tr>\n",
       "      <th>NTU</th>\n",
       "      <td>21292</td>\n",
       "      <td>211866</td>\n",
       "      <td>6504153</td>\n",
       "      <td>2167031</td>\n",
       "      <td>2014-12-30 02:59:52</td>\n",
       "      <td>2019-11-23 14:14:33</td>\n",
       "    </tr>\n",
       "    <tr>\n",
       "      <th>sex</th>\n",
       "      <td>9019</td>\n",
       "      <td>128871</td>\n",
       "      <td>5751423</td>\n",
       "      <td>1107208</td>\n",
       "      <td>1997-09-14 00:34:19</td>\n",
       "      <td>2019-11-23 18:44:32</td>\n",
       "    </tr>\n",
       "    <tr>\n",
       "      <th>movie</th>\n",
       "      <td>888</td>\n",
       "      <td>17382</td>\n",
       "      <td>344722</td>\n",
       "      <td>216679</td>\n",
       "      <td>2019-04-29 18:43:47</td>\n",
       "      <td>2019-05-06 00:32:32</td>\n",
       "    </tr>\n",
       "    <tr>\n",
       "      <th>WomenTalk</th>\n",
       "      <td>3966</td>\n",
       "      <td>58665</td>\n",
       "      <td>923012</td>\n",
       "      <td>649923</td>\n",
       "      <td>2019-04-06 14:46:32</td>\n",
       "      <td>2019-05-06 00:11:31</td>\n",
       "    </tr>\n",
       "    <tr>\n",
       "      <th>Boy-Girl</th>\n",
       "      <td>1583</td>\n",
       "      <td>29767</td>\n",
       "      <td>801447</td>\n",
       "      <td>376427</td>\n",
       "      <td>2019-03-14 10:49:25</td>\n",
       "      <td>2019-05-06 00:28:33</td>\n",
       "    </tr>\n",
       "    <tr>\n",
       "      <th>HatePolitics</th>\n",
       "      <td>28160</td>\n",
       "      <td>623420</td>\n",
       "      <td>8509977</td>\n",
       "      <td>8332837</td>\n",
       "      <td>2019-03-09 09:03:48</td>\n",
       "      <td>2020-05-03 08:16:22</td>\n",
       "    </tr>\n",
       "  </tbody>\n",
       "</table>\n",
       "</div>"
      ],
      "text/plain": [
       "              n_article  n_comments  nchar_post  nchar_comments                  t0                  t1\n",
       "Gossiping         16820      232525     4410932         2440495 2019-04-27 20:43:15 2019-05-06 00:33:12\n",
       "NTU               21292      211866     6504153         2167031 2014-12-30 02:59:52 2019-11-23 14:14:33\n",
       "sex                9019      128871     5751423         1107208 1997-09-14 00:34:19 2019-11-23 18:44:32\n",
       "movie               888       17382      344722          216679 2019-04-29 18:43:47 2019-05-06 00:32:32\n",
       "WomenTalk          3966       58665      923012          649923 2019-04-06 14:46:32 2019-05-06 00:11:31\n",
       "Boy-Girl           1583       29767      801447          376427 2019-03-14 10:49:25 2019-05-06 00:28:33\n",
       "HatePolitics      28160      623420     8509977         8332837 2019-03-09 09:03:48 2020-05-03 08:16:22"
      ]
     },
     "execution_count": 52,
     "metadata": {},
     "output_type": "execute_result"
    }
   ],
   "source": [
    "stat = ptt.getStatistics()\n",
    "stat.to_csv(str(ptt_path).replace('.gz', '.csv'))\n",
    "stat"
   ]
  },
  {
   "cell_type": "code",
   "execution_count": 59,
   "metadata": {},
   "outputs": [
    {
     "name": "stdout",
     "output_type": "stream",
     "text": [
      "Parse failed: 61\n"
     ]
    }
   ],
   "source": [
    "gart = list(ptt.getArticles(\"Gossiping\"))"
   ]
  },
  {
   "cell_type": "code",
   "execution_count": 60,
   "metadata": {},
   "outputs": [
    {
     "data": {
      "text/plain": [
       "16820"
      ]
     },
     "execution_count": 60,
     "metadata": {},
     "output_type": "execute_result"
    }
   ],
   "source": [
    "len(gart)"
   ]
  },
  {
   "cell_type": "code",
   "execution_count": 68,
   "metadata": {},
   "outputs": [
    {
     "data": {
      "text/plain": [
       "'這個年頭，不論是高中高職綜高還是五專，大家都在努力地拼升學率，好像升學率能夠吸引學生跟家長前來就讀一般。但是有些清流學校，堅持不拼升學率，反而是生育率表現亮眼，在深受少子化衝擊的台灣，這根本就是佛心學校。有沒有生育率大於升學率的學校的八卦？七瀬、卒業！！'"
      ]
     },
     "execution_count": 68,
     "metadata": {},
     "output_type": "execute_result"
    }
   ],
   "source": [
    "Blockade.utils.keep_cjk(gart[4][\"content\"])"
   ]
  },
  {
   "cell_type": "code",
   "execution_count": 102,
   "metadata": {},
   "outputs": [],
   "source": [
    "from Blockade.vectors import CwnNodeVec\n",
    "from Blockade.vectors import CharacterVectors"
   ]
  },
  {
   "cell_type": "code",
   "execution_count": 79,
   "metadata": {},
   "outputs": [
    {
     "name": "stdout",
     "output_type": "stream",
     "text": [
      "load CwnNodeVec from cache:  ..\\Blockade\\vectors\\..\\..\\resources\\cwn_node_vec_homophily.pkl\n"
     ]
    }
   ],
   "source": [
    "node_vec = CwnNodeVec('homophily')"
   ]
  },
  {
   "cell_type": "code",
   "execution_count": 131,
   "metadata": {},
   "outputs": [
    {
     "name": "stdout",
     "output_type": "stream",
     "text": [
      "write CharacterVectors to cache:  E:\\LangOn\\Blockade\\data\\cache_charac_vec\\charac_vec_nodevec.pkl\n"
     ]
    }
   ],
   "source": [
    "cv = CharacterVectors.from_CwnNodeVec(node_vec)"
   ]
  },
  {
   "cell_type": "code",
   "execution_count": 132,
   "metadata": {},
   "outputs": [
    {
     "data": {
      "text/plain": [
       "(3834, 100)"
      ]
     },
     "execution_count": 132,
     "metadata": {},
     "output_type": "execute_result"
    }
   ],
   "source": [
    "cv.vectors.shape"
   ]
  },
  {
   "cell_type": "code",
   "execution_count": 135,
   "metadata": {},
   "outputs": [],
   "source": [
    "import torch\n",
    "import torch.nn as nn"
   ]
  },
  {
   "cell_type": "code",
   "execution_count": 133,
   "metadata": {},
   "outputs": [],
   "source": [
    "embed = nn.Embedding(cv.shape[0], cv.shape[1], padding_idx=cv.vectors.shape[0]-1)"
   ]
  },
  {
   "cell_type": "code",
   "execution_count": 144,
   "metadata": {},
   "outputs": [],
   "source": [
    "embed.weight = nn.Parameter(torch.from_numpy(cv.vectors))\n",
    "embed.weight.requires_grad = False"
   ]
  },
  {
   "cell_type": "code",
   "execution_count": 148,
   "metadata": {},
   "outputs": [
    {
     "data": {
      "text/plain": [
       "torch.Size([3, 100])"
      ]
     },
     "execution_count": 148,
     "metadata": {},
     "output_type": "execute_result"
    }
   ],
   "source": [
    "embed(torch.LongTensor(cv.encode(\"你好嗎\"))).shape"
   ]
  },
  {
   "cell_type": "code",
   "execution_count": null,
   "metadata": {},
   "outputs": [],
   "source": []
  }
 ],
 "metadata": {
  "kernelspec": {
   "display_name": "Python 3",
   "language": "python",
   "name": "python3"
  },
  "language_info": {
   "codemirror_mode": {
    "name": "ipython",
    "version": 3
   },
   "file_extension": ".py",
   "mimetype": "text/x-python",
   "name": "python",
   "nbconvert_exporter": "python",
   "pygments_lexer": "ipython3",
   "version": "3.7.2"
  }
 },
 "nbformat": 4,
 "nbformat_minor": 2
}
