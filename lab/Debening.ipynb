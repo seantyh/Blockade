{
 "cells": [
  {
   "cell_type": "markdown",
   "metadata": {},
   "source": [
    "# Debening"
   ]
  },
  {
   "cell_type": "code",
   "execution_count": 1,
   "metadata": {},
   "outputs": [],
   "source": [
    "%load_ext autoreload\n",
    "%autoreload 2\n",
    "%matplotlib inline\n",
    "import sys\n",
    "sys.path.append(\"../\")"
   ]
  },
  {
   "cell_type": "code",
   "execution_count": 2,
   "metadata": {},
   "outputs": [],
   "source": [
    "import re\n",
    "import json\n",
    "from gensim.models import Word2Vec"
   ]
  },
  {
   "cell_type": "code",
   "execution_count": 3,
   "metadata": {},
   "outputs": [],
   "source": [
    "from Blockade import get_resource_path, get_data_path"
   ]
  },
  {
   "cell_type": "code",
   "execution_count": 20,
   "metadata": {},
   "outputs": [],
   "source": [
    "poem_path = get_resource_path('debening', \"poem300.txt\")\n",
    "with open(poem_path, \"r\", encoding=\"UTF-8\") as fin:\n",
    "    poems = fin.readlines()\n",
    "poems = [x.strip() for x in poems if not re.match(r\"^\\d\", x)]\n",
    "poems = [\"，\".join(poems[i:i+4])+\"。\" for i in range(0, len(poems), 4)]"
   ]
  },
  {
   "cell_type": "code",
   "execution_count": 21,
   "metadata": {},
   "outputs": [
    {
     "data": {
      "text/plain": [
       "'孤鴻海上來，池潢不敢顧，側見雙翠鳥，巢在三珠樹。'"
      ]
     },
     "execution_count": 21,
     "metadata": {},
     "output_type": "execute_result"
    }
   ],
   "source": [
    "poems[0]"
   ]
  },
  {
   "cell_type": "code",
   "execution_count": 93,
   "metadata": {},
   "outputs": [
    {
     "name": "stdout",
     "output_type": "stream",
     "text": [
      "/Users/seantyh/LangOn/Blockade/resources/debening/volume1.txt\n",
      "/Users/seantyh/LangOn/Blockade/resources/debening/volume2.txt\n",
      "/Users/seantyh/LangOn/Blockade/resources/debening/volume3.txt\n",
      "/Users/seantyh/LangOn/Blockade/resources/debening/volume4.txt\n",
      "/Users/seantyh/LangOn/Blockade/resources/debening/volume5.txt\n",
      "/Users/seantyh/LangOn/Blockade/resources/debening/volume6.txt\n",
      "/Users/seantyh/LangOn/Blockade/resources/debening/volume7.txt\n",
      "/Users/seantyh/LangOn/Blockade/resources/debening/volume8.txt\n",
      "/Users/seantyh/LangOn/Blockade/resources/debening/volume9.txt\n",
      "/Users/seantyh/LangOn/Blockade/resources/debening/volume10.txt\n",
      "/Users/seantyh/LangOn/Blockade/resources/debening/volume11.txt\n",
      "/Users/seantyh/LangOn/Blockade/resources/debening/volume12.txt\n"
     ]
    }
   ],
   "source": [
    "classic_path_templ = str(get_resource_path('debening', 'volume{vol_i}.txt'))\n",
    "classics = []\n",
    "def keepCJK(x):\n",
    "    return \"\".join(re.findall(r\"[\\u4e00-\\u9fff，。]\", x))\n",
    "for vi in range(1, 13):\n",
    "    classic_path = classic_path_templ.format(vol_i=vi)\n",
    "    print(classic_path)\n",
    "    fin = open(classic_path, \"r\", encoding=\"UTF-8\")\n",
    "    data = json.load(fin)\n",
    "    text = [keepCJK(x.strip()) for x in data[\"content\"] if not re.match(\"《\", x)]\n",
    "    text = classics.extend(text)\n",
    "    fin.close()"
   ]
  },
  {
   "cell_type": "code",
   "execution_count": 94,
   "metadata": {},
   "outputs": [],
   "source": [
    "textbase = poems + classics"
   ]
  },
  {
   "cell_type": "code",
   "execution_count": 95,
   "metadata": {},
   "outputs": [],
   "source": [
    "wv_model = Word2Vec(textbase, size=100, window=5, min_count=1)"
   ]
  },
  {
   "cell_type": "code",
   "execution_count": 96,
   "metadata": {},
   "outputs": [],
   "source": [
    "stoi = {s: i for i, s in enumerate(wv_model.wv.index2word)}\n",
    "itos = {v: k for k, v in stoi.items()}"
   ]
  },
  {
   "cell_type": "code",
   "execution_count": 97,
   "metadata": {},
   "outputs": [
    {
     "data": {
      "text/plain": [
       "(4050, 100)"
      ]
     },
     "execution_count": 97,
     "metadata": {},
     "output_type": "execute_result"
    }
   ],
   "source": [
    "syn1neg = wv_model.trainables.syn1neg\n",
    "syn1neg.shape"
   ]
  },
  {
   "cell_type": "code",
   "execution_count": 98,
   "metadata": {},
   "outputs": [
    {
     "data": {
      "text/plain": [
       "(4050, 100)"
      ]
     },
     "execution_count": 98,
     "metadata": {},
     "output_type": "execute_result"
    }
   ],
   "source": [
    "wv_model.wv.vectors.shape"
   ]
  },
  {
   "cell_type": "code",
   "execution_count": 99,
   "metadata": {},
   "outputs": [],
   "source": [
    "import pickle\n",
    "syn1neg_path = get_data_path('debening', 'syn1neg.pkl')\n",
    "with open(syn1neg_path, \"wb\") as fout:\n",
    "    pickle.dump((syn1neg, itos, stoi), fout)"
   ]
  },
  {
   "cell_type": "code",
   "execution_count": 100,
   "metadata": {},
   "outputs": [],
   "source": [
    "def vec2char(vec):\n",
    "    return itos[np.argmax(np.dot(syn1neg, vec))]\n",
    "    "
   ]
  },
  {
   "cell_type": "code",
   "execution_count": 144,
   "metadata": {},
   "outputs": [
    {
     "data": {
      "text/plain": [
       "'歉歉歉歉'"
      ]
     },
     "execution_count": 144,
     "metadata": {},
     "output_type": "execute_result"
    }
   ],
   "source": [
    "\"\".join([vec2char(np.random.beta(1,5,100)) for _ in range(4)])"
   ]
  },
  {
   "cell_type": "code",
   "execution_count": null,
   "metadata": {},
   "outputs": [],
   "source": []
  }
 ],
 "metadata": {
  "kernelspec": {
   "display_name": "Python 3",
   "language": "python",
   "name": "python3"
  },
  "language_info": {
   "codemirror_mode": {
    "name": "ipython",
    "version": 3
   },
   "file_extension": ".py",
   "mimetype": "text/x-python",
   "name": "python",
   "nbconvert_exporter": "python",
   "pygments_lexer": "ipython3",
   "version": "3.7.0"
  }
 },
 "nbformat": 4,
 "nbformat_minor": 2
}
