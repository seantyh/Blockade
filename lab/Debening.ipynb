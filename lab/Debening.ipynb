{
 "cells": [
  {
   "cell_type": "markdown",
   "metadata": {},
   "source": [
    "# Debening"
   ]
  },
  {
   "cell_type": "code",
   "execution_count": 1,
   "metadata": {},
   "outputs": [],
   "source": [
    "%load_ext autoreload\n",
    "%autoreload 2\n",
    "%matplotlib inline\n",
    "import sys\n",
    "sys.path.append(\"../\")"
   ]
  },
  {
   "cell_type": "code",
   "execution_count": 2,
   "metadata": {},
   "outputs": [],
   "source": [
    "from Blockade import get_resource_path, get_data_path"
   ]
  },
  {
   "cell_type": "code",
   "execution_count": 3,
   "metadata": {},
   "outputs": [],
   "source": [
    "classics_raw = get_resource_path(\"\", \"classics.raw.txt\")"
   ]
  },
  {
   "cell_type": "code",
   "execution_count": 7,
   "metadata": {},
   "outputs": [],
   "source": [
    "with open(classics_raw, \"r\", encoding=\"UTF-8\") as fin:\n",
    "    ctxt = fin.read()"
   ]
  },
  {
   "cell_type": "code",
   "execution_count": 24,
   "metadata": {},
   "outputs": [],
   "source": [
    "import re\n",
    "ctxt2 = re.sub(r\"[\\u2460-\\u24ff]|[(（].+[)）]\", \"\", ctxt)"
   ]
  },
  {
   "cell_type": "code",
   "execution_count": 25,
   "metadata": {},
   "outputs": [
    {
     "data": {
      "text/plain": [
       "'鄭伯克段于鄢\\n 初，鄭武公娶于申 ，日武薑。生莊公及共叔段。莊公寤生，\\n驚薑氏，故名曰“寤生＂，遂惡之。愛共叔段，欲立之，亟 請于武公，\\n公弗許。及莊公即位，為之請制。公曰：“制，岩邑 也， 虢叔死焉'"
      ]
     },
     "execution_count": 25,
     "metadata": {},
     "output_type": "execute_result"
    }
   ],
   "source": [
    "ctxt2[:100]"
   ]
  },
  {
   "cell_type": "code",
   "execution_count": 29,
   "metadata": {},
   "outputs": [],
   "source": [
    "ctxt_blocks = re.split(\"【.+】\", ctxt2)"
   ]
  },
  {
   "cell_type": "code",
   "execution_count": 30,
   "metadata": {},
   "outputs": [
    {
     "data": {
      "text/plain": [
       "282"
      ]
     },
     "execution_count": 30,
     "metadata": {},
     "output_type": "execute_result"
    }
   ],
   "source": [
    "len(ctxt_blocks)"
   ]
  },
  {
   "cell_type": "code",
   "execution_count": 38,
   "metadata": {},
   "outputs": [
    {
     "data": {
      "text/plain": [
       "'\\n 魯僖公四年的春天，齊桓公率領諸侯國的軍隊攻打蔡國。蔡國潰敗，\\n接著又去攻打楚國。 \\n 楚成王派使節到齊軍對齊桓公說：“您住在北方，我住在南方， 因此\\n牛馬發情相逐也到不了雙方的疆土。沒想到您進入了我們的 國土這是什麼\\n緣故？＂管仲回答說：“從前召康公命令我們先君 大公說：｀五等諸侯和\\n九州長官，你都有權征討他們，從而共同輔 佐周王室。＇召康公還給了我\\n們先君征討的範圍：東到海邊，西到 黃河，南到穆陵，北到無隸。你們應\\n當進貢的包茅沒有交納，周 工室的祭祀供不上，沒有用來滲濾酒渣的東\\n西，我特來徵收貢物； 周昭王南巡沒有返回，我特來查問這件事。＂楚國\\n使臣回答說： “貢品沒有交納，是我們國君的過錯，我們怎麼敢不供給呢？\\n周昭 工南巡沒有返回，還是請您到水邊去問一間吧！＂於是齊軍繼續前\\n進，臨時駐紮在陘。\\n 這年夏天，楚成王派使臣屈完到齊軍中去交涉，齊軍後撤，臨 時駐紮\\n在召陵。\\n 齊桓公讓諸侯國的軍隊擺開陣勢，與屈完同乘一輛戰車觀看 軍容。齊\\n桓公說：“諸侯們難道是為我而來嗎？他們不過是為了繼 承我們先君的友\\n好關係罷了。你們也同我們建立友好關係，怎麼 樣？屈完回答說：“承蒙\\n您惠臨敝國並為我們的國家求福，忍辱接 納我們國君，這正是我們國君的\\n心願。＂齊桓公說：“我率領這些 諸侯軍隊作戰，誰能夠抵擋他們？我讓\\n這些軍隊攻打城池，什麼 樣的城攻不下？＂屈完回答說：｀如果您用仁德\\n來安撫諸侯，哪個 敢不順服？如果您用武力的話，那麼楚國就把方城山當\\n作城牆，把 漢水當作護城河，您的兵馬雖然眾多，恐怕也沒有用處！＂\\n 後來，屈完代表楚國與諸侯國訂立了盟約。 \\n '"
      ]
     },
     "execution_count": 38,
     "metadata": {},
     "output_type": "execute_result"
    }
   ],
   "source": [
    "ctxt_blocks[7]"
   ]
  },
  {
   "cell_type": "code",
   "execution_count": null,
   "metadata": {},
   "outputs": [],
   "source": []
  }
 ],
 "metadata": {
  "kernelspec": {
   "display_name": "Python 3",
   "language": "python",
   "name": "python3"
  },
  "language_info": {
   "codemirror_mode": {
    "name": "ipython",
    "version": 3
   },
   "file_extension": ".py",
   "mimetype": "text/x-python",
   "name": "python",
   "nbconvert_exporter": "python",
   "pygments_lexer": "ipython3",
   "version": "3.7.2"
  }
 },
 "nbformat": 4,
 "nbformat_minor": 2
}
